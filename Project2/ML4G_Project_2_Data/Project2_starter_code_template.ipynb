{
 "cells": [
  {
   "cell_type": "code",
   "execution_count": 53,
   "id": "73bf6dca",
   "metadata": {},
   "outputs": [],
   "source": [
    "import os\n",
    "import zipfile\n",
    "import pandas as pd\n",
    "import numpy as np\n",
    "import magic\n",
    "import os \n",
    "import umap\n",
    "from scipy.stats import spearmanr\n",
    "import harmonypy as hm\n",
    "from sklearn.cluster import KMeans, AgglomerativeClustering\n",
    "from sklearn.decomposition import PCA\n",
    "from sklearn.metrics import silhouette_score, adjusted_rand_score, v_measure_score\n",
    "import matplotlib.pyplot as plt\n",
    "import scanpy as sc"
   ]
  },
  {
   "attachments": {},
   "cell_type": "markdown",
   "id": "4a0235c8",
   "metadata": {},
   "source": [
    "Installments\n",
    "- magic"
   ]
  },
  {
   "cell_type": "markdown",
   "id": "20e76b52",
   "metadata": {},
   "source": [
    "# Step 0: Download the training data"
   ]
  },
  {
   "cell_type": "code",
   "execution_count": 54,
   "id": "4dc0e1f6",
   "metadata": {},
   "outputs": [],
   "source": [
    "# get current path \n",
    "path_data = os.getcwd() "
   ]
  },
  {
   "attachments": {},
   "cell_type": "markdown",
   "id": "83772b34",
   "metadata": {},
   "source": [
    "### TRaining data information"
   ]
  },
  {
   "cell_type": "code",
   "execution_count": 55,
   "id": "428ce22e",
   "metadata": {},
   "outputs": [],
   "source": [
    "bulk_pancreas = pd.read_csv(os.path.join(path_data,\"train_data\",\"pancreas_bulk_train.csv\")).set_index(\"level_0\")"
   ]
  },
  {
   "cell_type": "code",
   "execution_count": 56,
   "id": "9bd6c906",
   "metadata": {},
   "outputs": [
    {
     "name": "stdout",
     "output_type": "stream",
     "text": [
      "Number of patients in the train dataset 4\n",
      "Number of genes in the dataset 25453\n"
     ]
    }
   ],
   "source": [
    "print(f\"Number of patients in the train dataset {bulk_pancreas.shape[1]}\")\n",
    "print(f\"Number of genes in the dataset {bulk_pancreas.shape[0]}\")"
   ]
  },
  {
   "cell_type": "code",
   "execution_count": 57,
   "id": "1306a4e9",
   "metadata": {},
   "outputs": [],
   "source": [
    "sc_pancreas = pd.read_csv(os.path.join(path_data,\"train_data\",\"pancreas_sc_train.csv\")).set_index(\"Unnamed: 0\")"
   ]
  },
  {
   "cell_type": "code",
   "execution_count": 58,
   "id": "d93b17fc",
   "metadata": {},
   "outputs": [
    {
     "name": "stdout",
     "output_type": "stream",
     "text": [
      "Number of cells in the train dataset 978\n"
     ]
    }
   ],
   "source": [
    "assert bulk_pancreas.shape[0] == sc_pancreas.shape[0]\n",
    "print(f\"Number of cells in the train dataset {sc_pancreas.shape[1]}\")"
   ]
  },
  {
   "cell_type": "code",
   "execution_count": 59,
   "id": "6e35ed87",
   "metadata": {},
   "outputs": [],
   "source": [
    "sc_pancreas_test = pd.read_csv(os.path.join(path_data,\"test_data\",\"pancreas_sc_test.csv\")).set_index(\"Unnamed: 0\")"
   ]
  },
  {
   "cell_type": "code",
   "execution_count": 60,
   "id": "6c382b33",
   "metadata": {},
   "outputs": [
    {
     "name": "stdout",
     "output_type": "stream",
     "text": [
      "Number of cells in the test dataset 789\n"
     ]
    }
   ],
   "source": [
    "print(f\"Number of cells in the test dataset {sc_pancreas_test.shape[1]}\")"
   ]
  },
  {
   "cell_type": "code",
   "execution_count": 61,
   "id": "bb28b9f1",
   "metadata": {},
   "outputs": [],
   "source": [
    "sc_pancreas_metadata = pd.read_csv(os.path.join(path_data,\"train_data\",\"pancreas_sc_metadata_train.csv\")).set_index(\"Source Name\")"
   ]
  },
  {
   "cell_type": "code",
   "execution_count": 62,
   "id": "bde772cf",
   "metadata": {},
   "outputs": [
    {
     "name": "stdout",
     "output_type": "stream",
     "text": [
      "Number of cells for patient1 is 249\n",
      "Number of cells for patient3 is 219\n",
      "Number of cells for patient2 is 234\n",
      "Number of cells for patient4 is 276\n"
     ]
    }
   ],
   "source": [
    "for patient in sc_pancreas_metadata.Sample.unique():\n",
    "    print(f\"Number of cells for {patient} is {sc_pancreas_metadata[sc_pancreas_metadata.Sample==patient].shape[0]}\")"
   ]
  },
  {
   "cell_type": "code",
   "execution_count": 63,
   "id": "e2027c27",
   "metadata": {},
   "outputs": [
    {
     "name": "stdout",
     "output_type": "stream",
     "text": [
      "There are 2 train patients with type II diabetes mellitus\n",
      "There are 2 train patients with normal\n"
     ]
    }
   ],
   "source": [
    "for dis in sc_pancreas_metadata.Disease.unique():\n",
    "    df = sc_pancreas_metadata[sc_pancreas_metadata.Disease==dis]\n",
    "    print(f\"There are {df.Sample.nunique()} train patients with {dis}\")"
   ]
  },
  {
   "cell_type": "code",
   "execution_count": 64,
   "id": "806c6c0a",
   "metadata": {},
   "outputs": [
    {
     "name": "stdout",
     "output_type": "stream",
     "text": [
      "There are 11 different cell types in the dataset\n",
      "The different cells types are ['delta cell' 'alpha cell' 'beta cell' 'PSC cell' 'endothelial cell'\n",
      " 'gamma cell' 'co-expression cell' 'ductal cell' 'epsilon cell'\n",
      " 'unclassified endocrine cell' 'acinar cell']\n"
     ]
    }
   ],
   "source": [
    "print(f\"There are {df.Celltype.nunique()} different cell types in the dataset\")\n",
    "print(f\"The different cells types are {df.Celltype.unique()}\")"
   ]
  },
  {
   "cell_type": "code",
   "execution_count": 93,
   "id": "7e8a7f5e",
   "metadata": {},
   "outputs": [
    {
     "data": {
      "text/plain": [
       "13"
      ]
     },
     "execution_count": 93,
     "metadata": {},
     "output_type": "execute_result"
    }
   ],
   "source": [
    "sc_pancreas_metadata.Celltype.nunique()"
   ]
  },
  {
   "attachments": {},
   "cell_type": "markdown",
   "id": "49c2bb41",
   "metadata": {},
   "source": [
    "### Test data information"
   ]
  },
  {
   "cell_type": "code",
   "execution_count": 65,
   "id": "aad9fa2f",
   "metadata": {},
   "outputs": [],
   "source": [
    "sc_pancreas_metadata_test = pd.read_csv(os.path.join(path_data,\"test_data\",\"pancreas_sc_metadata_test_wocelltype.csv\")).set_index(\"Source Name\")"
   ]
  },
  {
   "cell_type": "code",
   "execution_count": 66,
   "id": "2ee0bc2b",
   "metadata": {},
   "outputs": [
    {
     "name": "stdout",
     "output_type": "stream",
     "text": [
      "Number of cells for patient5 is 203\n",
      "Number of cells for patient7 is 284\n",
      "Number of cells for patient6 is 302\n"
     ]
    }
   ],
   "source": [
    "for patient in sc_pancreas_metadata_test.Sample.unique():\n",
    "    print(f\"Number of cells for {patient} is {sc_pancreas_metadata_test[sc_pancreas_metadata_test.Sample==patient].shape[0]}\")"
   ]
  },
  {
   "cell_type": "code",
   "execution_count": 67,
   "id": "ffd5982d",
   "metadata": {},
   "outputs": [
    {
     "name": "stdout",
     "output_type": "stream",
     "text": [
      "There are 1 test patients with normal\n",
      "There are 2 test patients with type II diabetes mellitus\n"
     ]
    }
   ],
   "source": [
    "for dis in sc_pancreas_metadata_test.Disease.unique():\n",
    "    df = sc_pancreas_metadata_test[sc_pancreas_metadata_test.Disease==dis]\n",
    "    print(f\"There are {df.Sample.nunique()} test patients with {dis}\")"
   ]
  },
  {
   "attachments": {},
   "cell_type": "markdown",
   "id": "8ca1d6ad",
   "metadata": {},
   "source": [
    "Dropout in Single cell data: When a gene is observed at a moderate or high expression level in one cell but not detected in another cell. An expressed transcript is not detected. \n",
    "- reasons for dropout: biological, or non-biological. \n",
    "- biological: indicates information about cell states\n",
    "- non-biological: technical zeros, which occur during the preparation of biological samples for sequencing, and sampling zeros, which arise due to limited sequencing depths"
   ]
  },
  {
   "attachments": {},
   "cell_type": "markdown",
   "id": "1ef29de0",
   "metadata": {},
   "source": [
    "Good imputation methods for single cell data\n",
    "- should achieve: \n",
    "1. accurate estimation of missing values\n",
    "- should avoid: \n",
    "1. overfitting or oversmoothing: could lead to loss of biological information or variability \n",
    "2. loss of sparsity"
   ]
  },
  {
   "attachments": {},
   "cell_type": "markdown",
   "id": "adb01a33",
   "metadata": {},
   "source": [
    "Samples  processed by different technicians and/or at different time points could lead to batch effect\n",
    "- how batch effect may affect single cell data: could lead to variation in sample groups that are caused by technical arrangements rather than biological factors, which could lead to false conclusions \n",
    "- methods to overcome potentially confounding effects: eliminate technical noise or bias so that observed variance in gene expression variance primarily reflects true biological variance.\n",
    "- use some batch correction algorithms: ex: MNN, CCA, Harmony \n"
   ]
  },
  {
   "cell_type": "markdown",
   "id": "9d634db5",
   "metadata": {},
   "source": [
    "# Step 1: Perform the imputation"
   ]
  },
  {
   "attachments": {},
   "cell_type": "markdown",
   "id": "cf217c54",
   "metadata": {},
   "source": [
    "Methods to try for imputation \n",
    "- MAGIC\n",
    "- ZINB VAE AND ZINB CVAE helps impute dropout effect"
   ]
  },
  {
   "cell_type": "code",
   "execution_count": 68,
   "id": "b84d943e",
   "metadata": {},
   "outputs": [
    {
     "name": "stdout",
     "output_type": "stream",
     "text": [
      "Calculating MAGIC...\n",
      "  Running MAGIC on 25453 cells and 978 genes.\n",
      "  Calculating graph and diffusion operator...\n",
      "    Calculating PCA...\n",
      "    Calculated PCA in 4.97 seconds.\n",
      "    Calculating KNN search...\n",
      "    Calculated KNN search in 94.94 seconds.\n",
      "    Calculating affinities...\n"
     ]
    },
    {
     "name": "stderr",
     "output_type": "stream",
     "text": [
      "/Library/Frameworks/Python.framework/Versions/3.10/lib/python3.10/site-packages/graphtools/graphs.py:290: RuntimeWarning: Detected zero distance between 26935 pairs of samples. Consider removing duplicates to avoid errors in downstream processing.\n",
      "  warnings.warn(\n"
     ]
    },
    {
     "name": "stdout",
     "output_type": "stream",
     "text": [
      "    Calculated affinities in 95.52 seconds.\n",
      "  Calculated graph and diffusion operator in 195.53 seconds.\n",
      "  Calculating imputation...\n"
     ]
    },
    {
     "name": "stderr",
     "output_type": "stream",
     "text": [
      "/Library/Frameworks/Python.framework/Versions/3.10/lib/python3.10/site-packages/graphtools/base.py:554: RuntimeWarning: K should have a non-zero diagonal\n",
      "  warnings.warn(\"K should have a non-zero diagonal\", RuntimeWarning)\n"
     ]
    },
    {
     "name": "stdout",
     "output_type": "stream",
     "text": [
      "  Calculated imputation in 1.61 seconds.\n",
      "Calculated MAGIC in 197.27 seconds.\n"
     ]
    }
   ],
   "source": [
    "magic_operator = magic.MAGIC()\n",
    "sc_pancreas_imputed = magic_operator.fit_transform(sc_pancreas)\n"
   ]
  },
  {
   "attachments": {},
   "cell_type": "markdown",
   "id": "0f4f6d2d",
   "metadata": {},
   "source": [
    "- calculating the \"bulkified\" data means calculating the patient-wide average of gene expression (ex: avg SGIP1 exp for patient1, 2, 3, 4)\n",
    "- To get the gene expression for patient j, you must simply average the library size-corrected values of the gene expression over all cells of the same patient.\n",
    "- average spearman's correlation will be calculated for all patients in the test set "
   ]
  },
  {
   "cell_type": "code",
   "execution_count": 69,
   "id": "f6c875ec",
   "metadata": {},
   "outputs": [],
   "source": [
    "def bulkification(sc_data):\n",
    "    patient_ids = sorted(list(set([col.split('_')[0] for col in sc_data.columns])))\n",
    "    bulkified = pd.DataFrame(columns=patient_ids, index=sc_data.index)\n",
    "    for patient_id in patient_ids:\n",
    "        # Select columns belonging to the same patient\n",
    "        patient_columns = [col for col in sc_data.columns if col.startswith(patient_id)]\n",
    "        patient_data = sc_data[patient_columns]\n",
    "        \n",
    "        # Calculate the mean expression for each gene for the current patient\n",
    "        mean_expression = patient_data.mean(axis=1)\n",
    "        bulkified[patient_id] = mean_expression\n",
    "    return bulkified"
   ]
  },
  {
   "cell_type": "code",
   "execution_count": 70,
   "id": "99ab7c65",
   "metadata": {},
   "outputs": [],
   "source": [
    "bulkified_train = bulkification(sc_pancreas_imputed)\n",
    "# TODO: NOTE I'M NOT SURE IF IT'S LOG2 OR LOG10\n",
    "log_transformed_bulk_data = np.log2(bulk_pancreas + 1)"
   ]
  },
  {
   "cell_type": "code",
   "execution_count": 71,
   "id": "34a0331e",
   "metadata": {},
   "outputs": [],
   "source": [
    "def calc_spearman(log_transformed_bulk_data, bulkified):\n",
    "    patient_ids = sorted(list(set([col.split('_')[0] for col in bulkified.columns])))\n",
    "    spearman_correlations = []\n",
    "    for patient_id in patient_ids:\n",
    "        spearman_correlation = spearmanr(log_transformed_bulk_data[patient_id], bulkified[patient_id])[0]\n",
    "        spearman_correlations.append(spearman_correlation)\n",
    "    return spearman_correlations"
   ]
  },
  {
   "cell_type": "code",
   "execution_count": 72,
   "id": "11549752",
   "metadata": {},
   "outputs": [
    {
     "name": "stdout",
     "output_type": "stream",
     "text": [
      "[0.9380227544395866, 0.9347507112021005, 0.9322098942877166, 0.9442370516977916]\n"
     ]
    }
   ],
   "source": [
    "spearman_correlations = calc_spearman(log_transformed_bulk_data, bulkified_train)\n",
    "print(spearman_correlations)"
   ]
  },
  {
   "cell_type": "markdown",
   "id": "131d64a6",
   "metadata": {},
   "source": [
    "# Step 2: Perform clustering "
   ]
  },
  {
   "attachments": {},
   "cell_type": "markdown",
   "id": "59237aa3",
   "metadata": {},
   "source": [
    "- clustering output can be performed on raw/imputed counts\n",
    "- free to do whatever transformations on data"
   ]
  },
  {
   "attachments": {},
   "cell_type": "markdown",
   "id": "a32cb574",
   "metadata": {},
   "source": [
    "Batch correction methods\n",
    "- regression based methods (ComBat)\n",
    "- dimensionality reduction methods (Harmony, Seurat, iNMF)\n",
    "- deep learning based models (BERMUDA, scVI, scVAE)\n",
    "\n",
    "--> trying out LIGER, Harmony, Seurat "
   ]
  },
  {
   "cell_type": "code",
   "execution_count": 73,
   "id": "1b29b9f2",
   "metadata": {},
   "outputs": [],
   "source": [
    "# number of clusters \n",
    "n_clusters = sc_pancreas_metadata.Celltype.nunique()\n",
    "cluster_types = sc_pancreas_metadata.Celltype.unique()"
   ]
  },
  {
   "cell_type": "code",
   "execution_count": 84,
   "id": "d337f390",
   "metadata": {},
   "outputs": [],
   "source": [
    "# preprocessing: scale data, normalize, and reduce dimensionality\n",
    "sc_pancreas_ad = sc.AnnData(sc_pancreas.T)\n",
    "# seurat pipeline\n",
    "sc_pancreas_ad_seurat = sc.pp.recipe_seurat(sc_pancreas_ad, copy=True)\n",
    "sc_pancreas_ad_zheng = sc.pp.recipe_zheng17(sc_pancreas_ad, log=True, n_top_genes=5000, copy=True)"
   ]
  },
  {
   "cell_type": "code",
   "execution_count": 75,
   "id": "469e8858",
   "metadata": {},
   "outputs": [],
   "source": [
    "# do dimensionality reduction then feed into harmony to do batch correction \n",
    "sc_pancreas_ad_seurat_pcs = PCA(n_components=50).fit_transform(sc_pancreas_ad_seurat.X)\n",
    "sc_pancreas_ad_zheng_pcs = PCA(n_components=50).fit_transform(sc_pancreas_ad_zheng.X)"
   ]
  },
  {
   "cell_type": "code",
   "execution_count": 76,
   "id": "9d491efe",
   "metadata": {},
   "outputs": [
    {
     "name": "stderr",
     "output_type": "stream",
     "text": [
      "2023-04-25 17:29:32,162 - harmonypy - INFO - Computing initial centroids with sklearn.KMeans...\n",
      "2023-04-25 17:29:32,588 - harmonypy - INFO - sklearn.KMeans initialization complete.\n",
      "2023-04-25 17:29:32,601 - harmonypy - INFO - Iteration 1 of 10\n",
      "2023-04-25 17:29:33,040 - harmonypy - INFO - Iteration 2 of 10\n",
      "2023-04-25 17:29:33,254 - harmonypy - INFO - Iteration 3 of 10\n",
      "2023-04-25 17:29:33,617 - harmonypy - INFO - Iteration 4 of 10\n",
      "2023-04-25 17:29:33,979 - harmonypy - INFO - Iteration 5 of 10\n",
      "2023-04-25 17:29:34,235 - harmonypy - INFO - Iteration 6 of 10\n",
      "2023-04-25 17:29:34,331 - harmonypy - INFO - Iteration 7 of 10\n",
      "2023-04-25 17:29:34,477 - harmonypy - INFO - Iteration 8 of 10\n",
      "2023-04-25 17:29:34,610 - harmonypy - INFO - Iteration 9 of 10\n",
      "2023-04-25 17:29:34,737 - harmonypy - INFO - Iteration 10 of 10\n",
      "2023-04-25 17:29:34,885 - harmonypy - INFO - Converged after 10 iterations\n",
      "2023-04-25 17:29:34,893 - harmonypy - INFO - Computing initial centroids with sklearn.KMeans...\n",
      "2023-04-25 17:29:35,215 - harmonypy - INFO - sklearn.KMeans initialization complete.\n",
      "2023-04-25 17:29:35,238 - harmonypy - INFO - Iteration 1 of 10\n",
      "2023-04-25 17:29:35,869 - harmonypy - INFO - Iteration 2 of 10\n",
      "2023-04-25 17:29:36,126 - harmonypy - INFO - Iteration 3 of 10\n",
      "2023-04-25 17:29:36,561 - harmonypy - INFO - Iteration 4 of 10\n",
      "2023-04-25 17:29:36,792 - harmonypy - INFO - Iteration 5 of 10\n",
      "2023-04-25 17:29:36,925 - harmonypy - INFO - Iteration 6 of 10\n",
      "2023-04-25 17:29:37,269 - harmonypy - INFO - Iteration 7 of 10\n",
      "2023-04-25 17:29:37,410 - harmonypy - INFO - Iteration 8 of 10\n",
      "2023-04-25 17:29:37,600 - harmonypy - INFO - Iteration 9 of 10\n",
      "2023-04-25 17:29:37,712 - harmonypy - INFO - Converged after 9 iterations\n"
     ]
    }
   ],
   "source": [
    "# using harmony to do batch correction and clustering \n",
    "harmony_seurat = hm.run_harmony(data_mat = sc_pancreas_ad_seurat_pcs, meta_data= sc_pancreas_metadata,\n",
    "                                vars_use = 'Sample')\n",
    "harmony_zheng = hm.run_harmony(data_mat = sc_pancreas_ad_zheng_pcs, meta_data= sc_pancreas_metadata,\n",
    "                                vars_use = 'Sample')\n"
   ]
  },
  {
   "cell_type": "code",
   "execution_count": 77,
   "id": "09bdbb29",
   "metadata": {},
   "outputs": [],
   "source": [
    "harmony_seurat_pcs = harmony_seurat.Z_corr\n",
    "harmony_zheng_pcs = harmony_zheng.Z_corr"
   ]
  },
  {
   "cell_type": "code",
   "execution_count": 101,
   "id": "3b719520",
   "metadata": {},
   "outputs": [],
   "source": [
    "sc_pancreas_ad_seurat.obsm[\"X_pca\"] = harmony_seurat_pcs.T\n",
    "sc_pancreas_ad_zheng.obsm[\"X_pca\"] = harmony_zheng_pcs.T"
   ]
  },
  {
   "cell_type": "code",
   "execution_count": 79,
   "id": "e7eeb64f",
   "metadata": {},
   "outputs": [
    {
     "data": {
      "image/png": "[encoded data removed]",
      "text/plain": [
       "<Figure size 432x288 with 1 Axes>"
      ]
     },
     "metadata": {},
     "output_type": "display_data"
    }
   ],
   "source": [
    "harmony_emb = np.array(sc_pancreas_ad_seurat.obsm[\"X_pca\"])\n",
    "\n",
    "# Run UMAP on the corrected embeddings\n",
    "umap_mod = umap.UMAP(n_neighbors=30, min_dist=0.3, n_components=2)\n",
    "umap_emb = umap_mod.fit_transform(harmony_emb)\n",
    "\n",
    "# Add the UMAP coordinates to the AnnData object\n",
    "sc_pancreas_ad_seurat.obsm[\"X_umap\"] = umap_emb\n",
    "\n",
    "sc_pancreas_ad_seurat.obs[\"cell_type\"] = sc_pancreas_metadata.Celltype\n",
    "\n",
    "# Plot the UMAP visualization\n",
    "sc.pl.umap(sc_pancreas_ad_seurat, color=[\"cell_type\"])\n"
   ]
  },
  {
   "cell_type": "code",
   "execution_count": 98,
   "id": "ae842548",
   "metadata": {},
   "outputs": [
    {
     "data": {
      "image/png": "[encoded data removed]",
      "text/plain": [
       "<Figure size 432x288 with 1 Axes>"
      ]
     },
     "metadata": {},
     "output_type": "display_data"
    }
   ],
   "source": [
    "harmony_emb = np.array(sc_pancreas_ad_zheng.obsm[\"X_pca\"])\n",
    "\n",
    "# Run UMAP on the corrected embeddings\n",
    "umap_mod = umap.UMAP(n_neighbors=30, min_dist=0.3, n_components=2)\n",
    "umap_emb = umap_mod.fit_transform(harmony_emb)\n",
    "\n",
    "# Add the UMAP coordinates to the AnnData object\n",
    "sc_pancreas_ad_zheng.obsm[\"X_umap\"] = umap_emb\n",
    "\n",
    "sc_pancreas_ad_zheng.obs[\"cell_type\"] = sc_pancreas_metadata.Celltype\n",
    "\n",
    "# Plot the UMAP visualization\n",
    "sc.pl.umap(sc_pancreas_ad_zheng, color=[\"cell_type\"])"
   ]
  },
  {
   "cell_type": "code",
   "execution_count": 83,
   "id": "15dd9c02",
   "metadata": {},
   "outputs": [
    {
     "data": {
      "image/png": "[encoded data removed]",
      "text/plain": [
       "<Figure size 432x288 with 1 Axes>"
      ]
     },
     "metadata": {},
     "output_type": "display_data"
    }
   ],
   "source": [
    "sc.pp.neighbors(sc_pancreas_ad, n_pcs=50)\n",
    "sc.tl.umap(sc_pancreas_ad)\n",
    "sc_pancreas_ad.obs[\"cell_type\"] = sc_pancreas_metadata.Celltype\n",
    "sc.pl.umap(sc_pancreas_ad, color= [\"cell_type\"])"
   ]
  },
  {
   "cell_type": "code",
   "execution_count": 87,
   "id": "4e20630d",
   "metadata": {},
   "outputs": [
    {
     "name": "stdout",
     "output_type": "stream",
     "text": [
      "WARNING: You’re trying to run this on 4999 dimensions of `.X`, if you really want this, set `use_rep='X'`.\n",
      "         Falling back to preprocessing with `sc.pp.pca` and default params.\n"
     ]
    },
    {
     "data": {
      "image/png": "[encoded data removed]",
      "text/plain": [
       "<Figure size 432x288 with 1 Axes>"
      ]
     },
     "metadata": {},
     "output_type": "display_data"
    },
    {
     "name": "stdout",
     "output_type": "stream",
     "text": [
      "WARNING: You’re trying to run this on 382 dimensions of `.X`, if you really want this, set `use_rep='X'`.\n",
      "         Falling back to preprocessing with `sc.pp.pca` and default params.\n"
     ]
    },
    {
     "data": {
      "image/png": "[encoded data removed]",
      "text/plain": [
       "<Figure size 432x288 with 1 Axes>"
      ]
     },
     "metadata": {},
     "output_type": "display_data"
    }
   ],
   "source": [
    "sc_pancreas_ad_wo_batch_zheng = sc.pp.recipe_seurat(sc_pancreas_ad, copy=True)\n",
    "sc_pancreas_ad_wo_batch_seurat = sc.pp.recipe_zheng17(sc_pancreas_ad, log=True, n_top_genes=5000, copy=True)\n",
    "\n",
    "sc.pp.neighbors(sc_pancreas_ad_wo_batch_seurat, n_pcs=50)\n",
    "sc.tl.umap(sc_pancreas_ad_wo_batch_seurat)\n",
    "sc_pancreas_ad_wo_batch_seurat.obs[\"cell_type\"] = sc_pancreas_metadata.Celltype\n",
    "sc_pancreas_ad_wo_batch_seurat.obs[\"sample\"] = sc_pancreas_metadata.Sample\n",
    "sc.pl.umap(sc_pancreas_ad_wo_batch_seurat, color= [\"sample\"])\n",
    "\n",
    "sc.pp.neighbors(sc_pancreas_ad_wo_batch_zheng, n_pcs=50)\n",
    "sc.tl.umap(sc_pancreas_ad_wo_batch_zheng)\n",
    "sc_pancreas_ad_wo_batch_zheng.obs[\"cell_type\"] = sc_pancreas_metadata.Celltype\n",
    "sc_pancreas_ad_wo_batch_zheng.obs[\"sample\"] = sc_pancreas_metadata.Sample\n",
    "sc.pl.umap(sc_pancreas_ad_wo_batch_zheng, color= [\"sample\"])"
   ]
  },
  {
   "cell_type": "code",
   "execution_count": 90,
   "id": "fad0d023",
   "metadata": {},
   "outputs": [
    {
     "name": "stdout",
     "output_type": "stream",
     "text": [
      "WARNING: You’re trying to run this on 4999 dimensions of `.X`, if you really want this, set `use_rep='X'`.\n",
      "         Falling back to preprocessing with `sc.pp.pca` and default params.\n"
     ]
    }
   ],
   "source": []
  },
  {
   "cell_type": "code",
   "execution_count": 102,
   "id": "941d05fd",
   "metadata": {},
   "outputs": [],
   "source": [
    "# clustering with leiden \n",
    "sc.pp.neighbors(sc_pancreas_ad_zheng)\n",
    "sc.tl.umap(sc_pancreas_ad_zheng)\n",
    "\n",
    "sc.tl.leiden(sc_pancreas_ad_zheng)\n",
    "\n",
    "sc.tl.leiden(sc_pancreas_ad_zheng, key_added= 'leiden_res0_25', resolution=0.25)\n",
    "sc.tl.leiden(sc_pancreas_ad_zheng, key_added= 'leiden_res0_5', resolution=0.5)\n",
    "sc.tl.leiden(sc_pancreas_ad_zheng, key_added = 'leiden_res0_6', resolution=0.6)\n",
    "sc.tl.leiden(sc_pancreas_ad_zheng, key_added = 'leiden_res0_75', resolution=0.75)\n",
    "sc.tl.leiden(sc_pancreas_ad_zheng, key_added= 'leiden_res1', resolution=1.0)\n"
   ]
  },
  {
   "cell_type": "code",
   "execution_count": null,
   "id": "eb465d5b",
   "metadata": {},
   "outputs": [],
   "source": [
    "sc.tl.leiden(sc_pancreas_ad_wo_batch_seurat)\n",
    "\n",
    "# using different types of resolution \n",
    "# sc.tl.leiden(sc_pancreas_ad_seurat, key_added= 'leiden_res0_25', resolution=0.25)\n",
    "# sc.tl.leiden(sc_pancreas_ad_seurat, key_added= 'leiden_res0_5', resolution=0.5)\n",
    "# sc.tl.leiden(sc_pancreas_ad_seurat, key_added= 'leiden_res1', resolution=1.0)"
   ]
  },
  {
   "cell_type": "code",
   "execution_count": null,
   "id": "18f35661",
   "metadata": {},
   "outputs": [],
   "source": []
  },
  {
   "cell_type": "code",
   "execution_count": null,
   "id": "be82fe65",
   "metadata": {},
   "outputs": [],
   "source": [
    "sc_pancreas_imputed_transformed = harmony_output.Z_corr\n",
    "\n",
    "# clustering \n",
    "# agg_clustering = AgglomerativeClustering(n_clusters, affinity = harmony_output.dist_mat)\n",
    "# # visualizing the clustering\n",
    "# agg_clustering.fit(sc_pancreas_imputed_transformed.T)\n",
    "# # getting the labels\n",
    "# agg_labels = agg_clustering.labels_\n",
    "\n",
    "# kmeans clustering\n",
    "kmeans_clustering = KMeans(n_clusters)\n",
    "kmeans_clustering.fit(sc_pancreas_imputed_transformed.T)\n",
    "kmeans_labels = kmeans_clustering.labels_\n",
    "\n",
    "\n",
    "# # getting the silhouette score\n",
    "# ssc = silhouette_score(sc_pancreas_imputed_transformed.T, agg_labels)\n",
    "\n",
    "# # getting the adjusted rand score\n",
    "# ars = adjusted_rand_score(sc_pancreas_metadata.Celltype, agg_labels)\n",
    "\n",
    "# # getting the v measure score\n",
    "# v_score = v_measure_score(sc_pancreas_metadata.Celltype, agg_labels)\n",
    "\n"
   ]
  },
  {
   "cell_type": "code",
   "execution_count": 97,
   "id": "50fa8605",
   "metadata": {},
   "outputs": [
    {
     "ename": "AttributeError",
     "evalue": "module 'umap' has no attribute 'UMAP'",
     "output_type": "error",
     "traceback": [
      "\u001b[0;31m---------------------------------------------------------------------------\u001b[0m",
      "\u001b[0;31mAttributeError\u001b[0m                            Traceback (most recent call last)",
      "\u001b[1;32m/Users/huijeong/Library/Mobile Documents/com~apple~CloudDocs/ETH Zurich/2022-2023/ML4G/Project/Project2/ML4G_Project_2_Data/Project2_starter_code_template.ipynb Cell 38\u001b[0m in \u001b[0;36m<cell line: 2>\u001b[0;34m()\u001b[0m\n\u001b[1;32m      <a href='vscode-notebook-cell:/Users/huijeong/Library/Mobile%20Documents/com~apple~CloudDocs/ETH%20Zurich/2022-2023/ML4G/Project/Project2/ML4G_Project_2_Data/Project2_starter_code_template.ipynb#Y116sZmlsZQ%3D%3D?line=0'>1</a>\u001b[0m \u001b[39m# create a umap with the metadata Celltype as the labels\u001b[39;00m\n\u001b[0;32m----> <a href='vscode-notebook-cell:/Users/huijeong/Library/Mobile%20Documents/com~apple~CloudDocs/ETH%20Zurich/2022-2023/ML4G/Project/Project2/ML4G_Project_2_Data/Project2_starter_code_template.ipynb#Y116sZmlsZQ%3D%3D?line=1'>2</a>\u001b[0m umap_mod \u001b[39m=\u001b[39m umap\u001b[39m.\u001b[39;49mUMAP(n_components\u001b[39m=\u001b[39m\u001b[39m2\u001b[39m, random_state\u001b[39m=\u001b[39m\u001b[39m42\u001b[39m)\n\u001b[1;32m      <a href='vscode-notebook-cell:/Users/huijeong/Library/Mobile%20Documents/com~apple~CloudDocs/ETH%20Zurich/2022-2023/ML4G/Project/Project2/ML4G_Project_2_Data/Project2_starter_code_template.ipynb#Y116sZmlsZQ%3D%3D?line=2'>3</a>\u001b[0m umap_mod\u001b[39m.\u001b[39mfit_transform(sc_pancreas)\n\u001b[1;32m      <a href='vscode-notebook-cell:/Users/huijeong/Library/Mobile%20Documents/com~apple~CloudDocs/ETH%20Zurich/2022-2023/ML4G/Project/Project2/ML4G_Project_2_Data/Project2_starter_code_template.ipynb#Y116sZmlsZQ%3D%3D?line=3'>4</a>\u001b[0m \u001b[39m# plot the umap\u001b[39;00m\n",
      "\u001b[0;31mAttributeError\u001b[0m: module 'umap' has no attribute 'UMAP'"
     ]
    }
   ],
   "source": [
    "# create a umap with the metadata Celltype as the labels\n",
    "umap_mod = umap.UMAP(n_components=2, random_state=42)\n",
    "umap_mod.fit_transform(sc_pancreas)\n",
    "# plot the umap\n",
    "plt.figure(figsize=(10,10))\n",
    "plt.scatter(umap_mod.embedding_[:, 0], umap_mod.embedding_[:, 1], c=sc_pancreas_metadata.Celltype, cmap='Spectral', s=0.1)\n",
    "plt.gca().set_aspect('equal', 'datalim')\n",
    "plt.title('UMAP projection of the pancreas dataset', fontsize=24)\n",
    "plt.show()\n"
   ]
  },
  {
   "cell_type": "markdown",
   "id": "652a8830",
   "metadata": {},
   "source": [
    "# Step 3: Predict on the test data"
   ]
  },
  {
   "attachments": {},
   "cell_type": "markdown",
   "id": "c4ea13e2",
   "metadata": {},
   "source": [
    "Performing imputation to create imputed_bulkified.csv"
   ]
  },
  {
   "cell_type": "code",
   "execution_count": 36,
   "id": "fd00697d",
   "metadata": {},
   "outputs": [
    {
     "name": "stdout",
     "output_type": "stream",
     "text": [
      "Calculating imputation...\n"
     ]
    },
    {
     "name": "stderr",
     "output_type": "stream",
     "text": [
      "/Library/Frameworks/Python.framework/Versions/3.10/lib/python3.10/site-packages/magic/magic.py:541: UserWarning: Running MAGIC.transform on different data to that which was used for MAGIC.fit may not produce sensible output, unless it comes from the same manifold.\n",
      "  warnings.warn(\n"
     ]
    },
    {
     "name": "stdout",
     "output_type": "stream",
     "text": [
      "Calculated imputation in 1.15 seconds.\n"
     ]
    }
   ],
   "source": [
    "sc_pancreas_imputed_test = magic_operator.transform(sc_pancreas_test)                        \n",
    "bulkified = bulkification(sc_pancreas_imputed_test)\n",
    "# bulkified should be a DataFrame containing the \"bulkified\" version of the imputed data\n",
    "bulkified.columns = [\"patient5\",\"patient6\",\"patient7\"]\n",
    "bulkified.index = sc_pancreas_test.index"
   ]
  },
  {
   "attachments": {},
   "cell_type": "markdown",
   "id": "e4269631",
   "metadata": {},
   "source": [
    "### Perform clustering to assign cell cluster membership "
   ]
  },
  {
   "cell_type": "code",
   "execution_count": null,
   "id": "8e216b3b",
   "metadata": {},
   "outputs": [],
   "source": []
  },
  {
   "attachments": {},
   "cell_type": "markdown",
   "id": "a75b846f",
   "metadata": {},
   "source": [
    "### Perform PCA to coordinates of the cells in the test dataset in the 50 first PCs computed on your data"
   ]
  },
  {
   "cell_type": "code",
   "execution_count": null,
   "id": "8b49eeb6",
   "metadata": {},
   "outputs": [],
   "source": []
  },
  {
   "cell_type": "markdown",
   "id": "d2cc8182",
   "metadata": {},
   "source": [
    "# Step 4: Save the required files"
   ]
  },
  {
   "cell_type": "code",
   "execution_count": null,
   "id": "8bae7975",
   "metadata": {},
   "outputs": [],
   "source": [
    "results_path = os.getcwd()\n",
    "archive_name = \"Jung_HuiJeong_Project2.zip\" # TODO"
   ]
  },
  {
   "cell_type": "code",
   "execution_count": null,
   "id": "0dfefc0e",
   "metadata": {},
   "outputs": [],
   "source": [
    "assert all(bulkified.columns == [\"index\",\"patient5\",\"patient6\",\"patient7\"])"
   ]
  },
  {
   "cell_type": "code",
   "execution_count": null,
   "id": "73543251",
   "metadata": {},
   "outputs": [],
   "source": [
    "assert all(bulkified[\"index\"] == sc_pancreas_test.index)"
   ]
  },
  {
   "cell_type": "code",
   "execution_count": null,
   "id": "eec6fdbe",
   "metadata": {},
   "outputs": [],
   "source": [
    "# cluster_labels should be a DataFrame containing the cluster labels for each cell\n",
    "# cluster_labels.columns = [\"index\", \"cluster\"]\n",
    "# cluster_labels[\"index\"] = sc_pancreas_test.columns"
   ]
  },
  {
   "cell_type": "code",
   "execution_count": null,
   "id": "b579f622",
   "metadata": {},
   "outputs": [],
   "source": [
    "assert all(cluster_labels.columns == [\"index\",\"cluster\"])"
   ]
  },
  {
   "cell_type": "code",
   "execution_count": null,
   "id": "8c4dd353",
   "metadata": {},
   "outputs": [],
   "source": [
    "assert all(cluster_labels[\"index\"] == sc_pancreas_test.columns)"
   ]
  },
  {
   "cell_type": "code",
   "execution_count": null,
   "id": "74b55afd",
   "metadata": {},
   "outputs": [],
   "source": [
    "# PCA should be a DataFrame containing the coordinates of each cell in the PCA transformed space for the 50 first PCs\n",
    "# PCA.columns = [\"index\", \"PC1\", \"PC2\", ..., \"PC50\"]\n",
    "# PCA[\"index\"] = sc_pancreas_test.columns"
   ]
  },
  {
   "cell_type": "code",
   "execution_count": null,
   "id": "83835eae",
   "metadata": {},
   "outputs": [],
   "source": [
    "assert all(PCA.columns == [\"index\"] + [\"PC\"+str(i+1) for i in range(50)])"
   ]
  },
  {
   "cell_type": "code",
   "execution_count": null,
   "id": "fb99b243",
   "metadata": {},
   "outputs": [],
   "source": [
    "assert all(PCA[\"index\"] == sc_pancreas_test.columns)"
   ]
  },
  {
   "cell_type": "code",
   "execution_count": null,
   "id": "f4a7b8fc",
   "metadata": {},
   "outputs": [],
   "source": [
    "with zipfile.ZipFile(os.path.join(results_path, archive_name), \"x\") as zf:\n",
    "    with zf.open(f\"imputed_bulkified.csv\", \"w\") as buffer:\n",
    "        bulkified.to_csv(buffer)\n",
    "    with zf.open(f\"cluster_membership.csv\", \"w\") as buffer:\n",
    "        cluster_labels.to_csv(buffer)\n",
    "    with zf.open(f\"PCA.csv\", \"w\") as buffer:\n",
    "        PCA.to_csv(buffer)\n",
    "    zf.close()"
   ]
  },
  {
   "cell_type": "code",
   "execution_count": null,
   "id": "99ab0880",
   "metadata": {},
   "outputs": [],
   "source": [
    "archive = zipfile.ZipFile(os.path.join(results_path, archive_name))\n",
    "assert all(\n",
    "        [\n",
    "            i in archive.namelist()\n",
    "            for i in [\n",
    "                \"imputed_bulkified.csv\",\n",
    "                \"cluster_membership.csv\",\n",
    "                \"PCA.csv\",\n",
    "            ]\n",
    "        ]\n",
    "    )"
   ]
  }
 ],
 "metadata": {
  "kernelspec": {
   "display_name": "Python 3 (ipykernel)",
   "language": "python",
   "name": "python3"
  },
  "language_info": {
   "codemirror_mode": {
    "name": "ipython",
    "version": 3
   },
   "file_extension": ".py",
   "mimetype": "text/x-python",
   "name": "python",
   "nbconvert_exporter": "python",
   "pygments_lexer": "ipython3",
   "version": "3.10.0"
  }
 },
 "nbformat": 4,
 "nbformat_minor": 5
}
